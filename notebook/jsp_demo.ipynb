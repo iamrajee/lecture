{
 "cells": [
  {
   "cell_type": "markdown",
   "metadata": {},
   "source": [
    "### Launch the ROS demo"
   ]
  },
  {
   "cell_type": "code",
	"execution_count": null,
   "metadata": {},
   "outputs": [
    {
     "name": "stdout",
     "output_type": "stream",
     "text": [
      "Starting job # 0 in a separate thread.\n"
     ]
    }
   ],
   "source": [
    "%%bash --bg\n",
    "trap 'kill $(jobs -p)' EXIT\n",
    "roslaunch demo.launch"
   ]
  },
  {
   "cell_type": "markdown",
   "metadata": {},
   "source": [
    "### Python Code\n",
    "Import rospy and initialize a python ROS node"
   ]
  },
  {
   "cell_type": "code",
	"execution_count": null,
   "metadata": {},
   "outputs": [],
   "source": [
    "import rospy\n",
    "rospy.init_node('mynode')"
   ]
  },
  {
   "cell_type": "markdown",
   "metadata": {},
   "source": [
    "Load the robot model using the `JointStatePublisher`"
   ]
  },
  {
   "cell_type": "code",
	"execution_count": null,
   "metadata": {},
   "outputs": [],
   "source": [
    "# joint_state_publisher is not a python package, but a script installed in lib\n",
    "from robot_model import RobotModel\n",
    "robot = RobotModel()"
   ]
  },
  {
   "cell_type": "markdown",
   "metadata": {},
   "source": [
    "Create a publisher and `JointState` message"
   ]
  },
  {
   "cell_type": "code",
	"execution_count": null,
   "metadata": {},
   "outputs": [],
   "source": [
    "from sensor_msgs.msg import JointState\n",
    "pub = rospy.Publisher('/target_joint_states', JointState, queue_size=1)\n",
    "msg = JointState()"
   ]
  },
  {
   "cell_type": "markdown",
   "metadata": {},
   "source": [
    "Create a list slider widgets, one for each joint"
   ]
  },
  {
   "cell_type": "code",
	"execution_count": null,
   "metadata": {},
   "outputs": [],
   "source": [
    "import ipywidgets\n",
    "from ipywidgets import FloatSlider, Layout, Button, Box\n",
    "joint_widgets = [FloatSlider(min = j.min, max = j.max, step = (j.max-j.min) / 100, description = j.name) \\\n",
    "                 for j in robot.active_joints]"
   ]
  },
  {
   "cell_type": "markdown",
   "metadata": {},
   "source": [
    "Compute forward-kinematics and publish a frame marker"
   ]
  },
  {
   "cell_type": "code",
	"execution_count": null,
   "metadata": {},
   "outputs": [],
   "source": [
    "from markers import frame, MarkerArray\n",
    "marker_pub = rospy.Publisher('/marker_array', MarkerArray, queue_size=1)\n",
    "\n",
    "def publish_fk_marker():\n",
    "    T, _ = robot.fk(link='panda_link8', joints={j.description: j.value for j in joint_widgets})\n",
    "    marker_pub.publish(frame(T))"
   ]
  },
  {
   "cell_type": "markdown",
   "metadata": {},
   "source": [
    "React to slider (value) changes by publishing this particular joint"
   ]
  },
  {
   "cell_type": "code",
	"execution_count": null,
   "metadata": {},
   "outputs": [],
   "source": [
    "def on_sent(event):\n",
    "    widget = event.owner\n",
    "    msg.name = [widget.description]\n",
    "    msg.position = [widget.value]\n",
    "    pub.publish(msg)\n",
    "    publish_fk_marker()\n",
    "\n",
    "for widget in joint_widgets:\n",
    "    widget.observe(on_sent, 'value')"
   ]
  },
  {
   "cell_type": "markdown",
   "metadata": {},
   "source": [
    "Create a button to randomly generate a pose within joint limits"
   ]
  },
  {
   "cell_type": "code",
	"execution_count": null,
   "metadata": {},
   "outputs": [],
   "source": [
    "def set_joints(values):\n",
    "    for widget, value in values:\n",
    "        widget.unobserve(on_sent, 'value')\n",
    "        widget.value = value\n",
    "        widget.observe(on_sent, 'value')\n",
    "    msg.name, msg.position = zip(*[(widget.description, widget.value) for widget in joint_widgets])\n",
    "    pub.publish(msg)\n",
    "    publish_fk_marker()\n",
    "\n",
    "import random\n",
    "def on_randomize(randomize):\n",
    "    set_joints([(widget, random.uniform(widget.min, widget.max)) for widget in joint_widgets])\n",
    "\n",
    "randomize = Button(description='Randomize')       \n",
    "randomize.on_click(on_randomize)"
   ]
  },
  {
   "cell_type": "markdown",
   "metadata": {},
   "source": [
    "Create a button to center all joints within their limits"
   ]
  },
  {
   "cell_type": "code",
	"execution_count": null,
   "metadata": {},
   "outputs": [],
   "source": [
    "def on_center(b):\n",
    "    set_joints([(widget, (widget.min + widget.max) / 2) for widget in joint_widgets])\n",
    "\n",
    "center = Button(description='Center')\n",
    "center.on_click(on_center)"
   ]
  },
  {
   "cell_type": "markdown",
   "metadata": {},
   "source": [
    "Collect all widgets (sliders and buttons) in a form and display them"
   ]
  },
  {
   "cell_type": "code",
	"execution_count": null,
   "metadata": {
    "scrolled": false
   },
   "outputs": [
    {
     "data": {
      "application/vnd.jupyter.widget-view+json": {
       "model_id": "5d1e77012eca487a9cac27244dba6401"
      }
     },
     "metadata": {},
     "output_type": "display_data"
    }
   ],
   "source": [
    "form_items = list(joint_widgets)\n",
    "form_items += [Box([center, randomize])]\n",
    "\n",
    "form = Box(form_items, layout=Layout(\n",
    "    display='flex',\n",
    "    flex_flow='column',\n",
    "    border='solid 2px',\n",
    "    align_items='stretch',\n",
    "    width='100%'\n",
    "))\n",
    "display(form)"
   ]
  },
  {
   "cell_type": "code",
	"execution_count": null,
   "metadata": {},
   "outputs": [],
   "source": []
  }
 ],
 "metadata": {
  "kernelspec": {
   "display_name": "Python 2",
   "language": "python",
   "name": "python2"
  },
  "language_info": {
   "codemirror_mode": {
    "name": "ipython",
    "version": 2
   },
   "file_extension": ".py",
   "mimetype": "text/x-python",
   "name": "python",
   "nbconvert_exporter": "python",
   "pygments_lexer": "ipython2",
   "version": "2.7.15+"
  }
 },
 "nbformat": 4,
 "nbformat_minor": 2
}
